{
 "cells": [
  {
   "cell_type": "code",
   "execution_count": 1,
   "id": "1ebabd9a-2d16-4eff-a53b-7be52a17d5c5",
   "metadata": {},
   "outputs": [
    {
     "name": "stderr",
     "output_type": "stream",
     "text": [
      "/home/yuhao/.local/lib/python3.10/site-packages/tqdm/auto.py:21: TqdmWarning: IProgress not found. Please update jupyter and ipywidgets. See https://ipywidgets.readthedocs.io/en/stable/user_install.html\n",
      "  from .autonotebook import tqdm as notebook_tqdm\n"
     ]
    },
    {
     "name": "stdout",
     "output_type": "stream",
     "text": [
      "DATASET IPanda50: DOWNLOADING STARTED.\n",
      "You are trying to download an already downloaded dataset.\n",
      "        This message may have happened to due interrupted download or extract.\n",
      "        To force the download use the `force=True` keyword such as\n",
      "        get_data(..., force=True) or download(..., force=True).\n",
      "        \n"
     ]
    }
   ],
   "source": [
    "from __future__ import annotations\n",
    "from wildlife_datasets.datasets import IPanda50\n",
    "from wildlife_tools.data import WildlifeDataset\n",
    "import torchvision.transforms as T\n",
    "from wildlife_datasets import analysis, datasets, splits\n",
    "\n",
    "# Load the dataset you want !!\n",
    "datasets.IPanda50.get_data('data/IPanda50')\n",
    "metadata = IPanda50('data/IPanda50')\n",
    "\n",
    "# # Split the dataset with the same setting of paper !!\n",
    "splitter = splits.DisjointSetSplit(ratio_class_test = 0.2)\n",
    "idx_train, idx_test = splitter.split(metadata.df)[0]\n",
    "\n",
    "splitter_test = splits.ClosedSetSplit(ratio_train = 0.8)\n",
    "idx_database, idx_query = splitter_test.split(metadata.df.iloc[idx_test])[0]\n",
    "\n",
    "# Transform and the dataset class\n",
    "transform = T.Compose([T.Resize([224, 224]), T.ToTensor()])\n",
    "train_dataset = WildlifeDataset(metadata.df.iloc[idx_train], metadata.root, transform=transform)\n",
    "test_database = WildlifeDataset(metadata.df.iloc[idx_database], metadata.root, transform=transform)\n",
    "test_query = WildlifeDataset(metadata.df.iloc[idx_query], metadata.root, transform=transform)\n",
    "\n"
   ]
  },
  {
   "cell_type": "code",
   "execution_count": 2,
   "id": "e8066564-fe75-46e6-901e-e549e0275462",
   "metadata": {},
   "outputs": [
    {
     "name": "stderr",
     "output_type": "stream",
     "text": [
      "2024-11-26 22:26:44.836013: I tensorflow/core/platform/cpu_feature_guard.cc:193] This TensorFlow binary is optimized with oneAPI Deep Neural Network Library (oneDNN) to use the following CPU instructions in performance-critical operations:  AVX2 FMA\n",
      "To enable them in other operations, rebuild TensorFlow with the appropriate compiler flags.\n",
      "2024-11-26 22:26:44.942043: W tensorflow/compiler/xla/stream_executor/platform/default/dso_loader.cc:64] Could not load dynamic library 'libcudart.so.11.0'; dlerror: libcudart.so.11.0: cannot open shared object file: No such file or directory; LD_LIBRARY_PATH: /home/yuhao/.local/lib/python3.10/site-packages/cv2/../../lib64:/usr/local/cuda-12.0/lib64:\n",
      "2024-11-26 22:26:44.942061: I tensorflow/compiler/xla/stream_executor/cuda/cudart_stub.cc:29] Ignore above cudart dlerror if you do not have a GPU set up on your machine.\n",
      "2024-11-26 22:26:45.489726: W tensorflow/compiler/xla/stream_executor/platform/default/dso_loader.cc:64] Could not load dynamic library 'libnvinfer.so.7'; dlerror: libnvinfer.so.7: cannot open shared object file: No such file or directory; LD_LIBRARY_PATH: /home/yuhao/.local/lib/python3.10/site-packages/cv2/../../lib64:/usr/local/cuda-12.0/lib64:\n",
      "2024-11-26 22:26:45.489820: W tensorflow/compiler/xla/stream_executor/platform/default/dso_loader.cc:64] Could not load dynamic library 'libnvinfer_plugin.so.7'; dlerror: libnvinfer_plugin.so.7: cannot open shared object file: No such file or directory; LD_LIBRARY_PATH: /home/yuhao/.local/lib/python3.10/site-packages/cv2/../../lib64:/usr/local/cuda-12.0/lib64:\n",
      "2024-11-26 22:26:45.489828: W tensorflow/compiler/tf2tensorrt/utils/py_utils.cc:38] TF-TRT Warning: Cannot dlopen some TensorRT libraries. If you would like to use Nvidia GPU with TensorRT, please make sure the missing libraries mentioned above are installed properly.\n",
      "Cannot initialize model with low cpu memory usage because `accelerate` was not found in the environment. Defaulting to `low_cpu_mem_usage=False`. It is strongly recommended to install `accelerate` for faster and less memory-intense model loading. You can do so with: \n",
      "```\n",
      "pip install accelerate\n",
      "```\n",
      ".\n",
      "/home/yuhao/.local/lib/python3.10/site-packages/huggingface_hub/file_download.py:1132: FutureWarning: `resume_download` is deprecated and will be removed in version 1.0.0. Downloads always resume when possible. If you want to force a new download, use `force_download=True`.\n",
      "  warnings.warn(\n",
      "Cannot initialize model with low cpu memory usage because `accelerate` was not found in the environment. Defaulting to `low_cpu_mem_usage=False`. It is strongly recommended to install `accelerate` for faster and less memory-intense model loading. You can do so with: \n",
      "```\n",
      "pip install accelerate\n",
      "```\n",
      ".\n"
     ]
    }
   ],
   "source": [
    "from PIL import Image\n",
    "from torchvision.transforms import PILToTensor\n",
    "from dift.src.models.dift_sd import SDFeaturizer\n",
    "\n",
    "dift = SDFeaturizer(sd_id='stabilityai/stable-diffusion-2-1')\n",
    "prompt = \"find the corresponding point\"\n"
   ]
  },
  {
   "cell_type": "code",
   "execution_count": 3,
   "id": "d3226139-96e5-48f7-b3c0-c2404d58a768",
   "metadata": {},
   "outputs": [
    {
     "name": "stderr",
     "output_type": "stream",
     "text": [
      "100%|███████████████████████████████████████| 1286/1286 [03:00<00:00,  7.14it/s]\n"
     ]
    },
    {
     "name": "stdout",
     "output_type": "stream",
     "text": [
      "torch.Size([1286, 1280, 14, 14])\n",
      "torch.Size([1286])\n"
     ]
    },
    {
     "name": "stderr",
     "output_type": "stream",
     "text": [
      "100%|█████████████████████████████████████████| 322/322 [00:45<00:00,  7.15it/s]\n"
     ]
    },
    {
     "name": "stdout",
     "output_type": "stream",
     "text": [
      "torch.Size([322, 1280, 14, 14])\n",
      "torch.Size([322])\n"
     ]
    },
    {
     "name": "stderr",
     "output_type": "stream",
     "text": [
      "100%|███████████████████████████████████████| 5266/5266 [12:20<00:00,  7.11it/s]\n"
     ]
    },
    {
     "name": "stdout",
     "output_type": "stream",
     "text": [
      "torch.Size([5266, 1280, 14, 14])\n",
      "torch.Size([5266])\n"
     ]
    }
   ],
   "source": [
    "from tqdm import tqdm\n",
    "import torch\n",
    "# =================================================database=========================================================\n",
    "all_ft = []\n",
    "all_label = []\n",
    "prompt = f'find the corresponding point in the image'\n",
    "for img,label in tqdm(test_database):\n",
    "    # print(i)\n",
    "    ft = dift.forward(img,\n",
    "                      prompt=prompt,\n",
    "                      t = 0, \n",
    "                      ensemble_size=8)\n",
    "    all_ft.append(ft)\n",
    "    all_label.append(label)\n",
    "\n",
    "# print(ft.shape)\n",
    "\n",
    "all_ft = torch.cat(all_ft, dim=0)\n",
    "all_label = torch.tensor(all_label)\n",
    "\n",
    "print(all_ft.shape)\n",
    "print(all_label.shape)\n",
    "\n",
    "ft = torch.save(all_ft.squeeze(0).cpu(), \"test_database_dift_IPanda50_0.pt\") # save feature in the shape of [c, h, w]\n",
    "label = torch.save(all_label, \"test_database_label_IPanda50_0.pt\") # save feature in the shape of [c, h, w]\n",
    "# =================================================query=========================================================\n",
    "all_ft = []\n",
    "all_label = []\n",
    "prompt = f'find the lion in the image'\n",
    "for img,label in tqdm(test_query):\n",
    "    # print(i)\n",
    "    ft = dift.forward(img,\n",
    "                      prompt=prompt,\n",
    "                      t = 0, \n",
    "                      ensemble_size=8)\n",
    "    all_ft.append(ft)\n",
    "    all_label.append(label)\n",
    "\n",
    "# print(ft.shape)\n",
    "\n",
    "all_ft = torch.cat(all_ft, dim=0)\n",
    "all_label = torch.tensor(all_label)\n",
    "\n",
    "print(all_ft.shape)\n",
    "print(all_label.shape)\n",
    "\n",
    "ft = torch.save(all_ft.squeeze(0).cpu(), \"test_query_dift_IPanda50_0.pt\") # save feature in the shape of [c, h, w]\n",
    "label = torch.save(all_label, \"test_query_label_IPanda50_0.pt\") # save feature in the shape of [c, h, w]\n",
    "# =================================================train=========================================================\n",
    "all_ft = []\n",
    "all_label = []\n",
    "prompt = f'find the lion in the image'\n",
    "for img,label in tqdm(train_dataset):\n",
    "    # print(i)\n",
    "    ft = dift.forward(img,\n",
    "                      prompt=prompt,\n",
    "                      t = 0, \n",
    "                      ensemble_size=8)\n",
    "    all_ft.append(ft)\n",
    "    all_label.append(label)\n",
    "    \n",
    "all_ft = torch.cat(all_ft, dim=0)\n",
    "all_label = torch.tensor(all_label)\n",
    "\n",
    "print(all_ft.shape)\n",
    "print(all_label.shape)\n",
    "\n",
    "ft = torch.save(all_ft.squeeze(0).cpu(), \"train_dift_IPanda50_0.pt\") # save feature in the shape of [c, h, w]\n"
   ]
  },
  {
   "cell_type": "code",
   "execution_count": 4,
   "id": "79476b8e-fb5b-41d6-8c93-28fe1a95111c",
   "metadata": {},
   "outputs": [
    {
     "name": "stderr",
     "output_type": "stream",
     "text": [
      "100%|███████████████████████████████████████| 1286/1286 [03:00<00:00,  7.11it/s]\n"
     ]
    },
    {
     "name": "stdout",
     "output_type": "stream",
     "text": [
      "torch.Size([1286, 1280, 14, 14])\n",
      "torch.Size([1286])\n"
     ]
    },
    {
     "name": "stderr",
     "output_type": "stream",
     "text": [
      "100%|█████████████████████████████████████████| 322/322 [00:45<00:00,  7.04it/s]\n"
     ]
    },
    {
     "name": "stdout",
     "output_type": "stream",
     "text": [
      "torch.Size([322, 1280, 14, 14])\n",
      "torch.Size([322])\n"
     ]
    },
    {
     "name": "stderr",
     "output_type": "stream",
     "text": [
      "100%|███████████████████████████████████████| 5266/5266 [12:24<00:00,  7.07it/s]\n"
     ]
    },
    {
     "name": "stdout",
     "output_type": "stream",
     "text": [
      "torch.Size([5266, 1280, 14, 14])\n",
      "torch.Size([5266])\n"
     ]
    }
   ],
   "source": [
    "# =================================================database=========================================================\n",
    "all_ft = []\n",
    "all_label = []\n",
    "prompt = f'find the corresponding point in the image'\n",
    "for img,label in tqdm(test_database):\n",
    "    # print(i)\n",
    "    ft = dift.forward(img,\n",
    "                      prompt=prompt,\n",
    "                      t = 261, \n",
    "                      ensemble_size=8)\n",
    "    all_ft.append(ft)\n",
    "    all_label.append(label)\n",
    "\n",
    "# print(ft.shape)\n",
    "\n",
    "all_ft = torch.cat(all_ft, dim=0)\n",
    "all_label = torch.tensor(all_label)\n",
    "\n",
    "print(all_ft.shape)\n",
    "print(all_label.shape)\n",
    "\n",
    "ft = torch.save(all_ft.squeeze(0).cpu(), \"test_database_dift_IPanda50_261.pt\") # save feature in the shape of [c, h, w]\n",
    "label = torch.save(all_label, \"test_database_label_IPanda50_261.pt\") # save feature in the shape of [c, h, w]\n",
    "# =================================================query=========================================================\n",
    "all_ft = []\n",
    "all_label = []\n",
    "prompt = f'find the lion in the image'\n",
    "for img,label in tqdm(test_query):\n",
    "    # print(i)\n",
    "    ft = dift.forward(img,\n",
    "                      prompt=prompt,\n",
    "                      t = 261, \n",
    "                      ensemble_size=8)\n",
    "    all_ft.append(ft)\n",
    "    all_label.append(label)\n",
    "\n",
    "# print(ft.shape)\n",
    "\n",
    "all_ft = torch.cat(all_ft, dim=0)\n",
    "all_label = torch.tensor(all_label)\n",
    "\n",
    "print(all_ft.shape)\n",
    "print(all_label.shape)\n",
    "\n",
    "ft = torch.save(all_ft.squeeze(0).cpu(), \"test_query_dift_IPanda50_261.pt\") # save feature in the shape of [c, h, w]\n",
    "label = torch.save(all_label, \"test_query_label_IPanda50_261.pt\") # save feature in the shape of [c, h, w]\n",
    "# =================================================train=========================================================\n",
    "all_ft = []\n",
    "all_label = []\n",
    "prompt = f'find the lion in the image'\n",
    "for img,label in tqdm(train_dataset):\n",
    "    # print(i)\n",
    "    ft = dift.forward(img,\n",
    "                      prompt=prompt,\n",
    "                      t = 261, \n",
    "                      ensemble_size=8)\n",
    "    all_ft.append(ft)\n",
    "    all_label.append(label)\n",
    "    \n",
    "all_ft = torch.cat(all_ft, dim=0)\n",
    "all_label = torch.tensor(all_label)\n",
    "\n",
    "print(all_ft.shape)\n",
    "print(all_label.shape)\n",
    "\n",
    "ft = torch.save(all_ft.squeeze(0).cpu(), \"train_dift_IPanda50_261.pt\") # save feature in the shape of [c, h, w]\n",
    "label = torch.save(all_label, \"train_label_IPanda50_261.pt\") # save feature in the shape of [c, h, w]"
   ]
  },
  {
   "cell_type": "code",
   "execution_count": 5,
   "id": "6b10009a-3ac1-443c-af1b-225260c3da91",
   "metadata": {},
   "outputs": [],
   "source": [
    "import gc\n",
    "import matplotlib.pyplot as plt\n",
    "import torch\n",
    "import torch.nn as nn\n",
    "import numpy as np\n",
    "import torch.nn.functional as F\n",
    "\n",
    "class Demo:\n",
    "    def __init__(self, img):\n",
    "        self.img = img\n",
    "        self.points_x=[]\n",
    "        self.points_y=[]\n",
    "    \n",
    "    def plot_img_pairs(self, fig_size=3, alpha=0.45, scatter_size=70):\n",
    "        fig, axes = plt.subplots(1, figsize=(fig_size, fig_size))\n",
    "        plt.tight_layout()\n",
    "\n",
    "        axes.imshow(self.img)\n",
    "        axes.axis('off')\n",
    "        axes.set_title('source image')\n",
    "\n",
    "        def onclick(event):\n",
    "            x, y = int(np.round(event.xdata)), int(np.round(event.ydata))\n",
    "            print(x,y)\n",
    "            self.points_x.append(x)\n",
    "            self.points_y.append(y)\n",
    "            axes.clear()\n",
    "            axes.imshow(self.img)\n",
    "            axes.axis('off')\n",
    "            axes.scatter(self.points_x, self.points_y, c='r', s=scatter_size)\n",
    "            axes.set_title('source image')\n",
    "        fig.canvas.mpl_connect('button_press_event', onclick)\n",
    "        plt.show()"
   ]
  },
  {
   "cell_type": "code",
   "execution_count": 7,
   "id": "44d639b0-137c-4d25-97ef-aeaa301ed960",
   "metadata": {},
   "outputs": [],
   "source": [
    "%matplotlib TK\n",
    "from PIL import Image\n",
    "img = Image.open('/home/yuhao/Desktop/Y3/animal_ReID/data/IPanda50/iPanda50-images/00_aibang/00_v001_f000455.jpg' ).convert('RGB')\n",
    "img_size = 100\n",
    "img = img.resize((img_size, img_size))\n",
    "demo = Demo(img)\n",
    "\n"
   ]
  },
  {
   "cell_type": "code",
   "execution_count": 8,
   "id": "79259129-7036-4b93-9372-e26ee83f8bf8",
   "metadata": {},
   "outputs": [
    {
     "name": "stdout",
     "output_type": "stream",
     "text": [
      "22 60\n",
      "48 50\n",
      "68 22\n"
     ]
    }
   ],
   "source": [
    "demo.plot_img_pairs(fig_size=5)"
   ]
  },
  {
   "cell_type": "code",
   "execution_count": 9,
   "id": "4cc767f8-5de2-4f57-a066-f0210729a65c",
   "metadata": {},
   "outputs": [
    {
     "name": "stderr",
     "output_type": "stream",
     "text": [
      "Cannot initialize model with low cpu memory usage because `accelerate` was not found in the environment. Defaulting to `low_cpu_mem_usage=False`. It is strongly recommended to install `accelerate` for faster and less memory-intense model loading. You can do so with: \n",
      "```\n",
      "pip install accelerate\n",
      "```\n",
      ".\n",
      "Cannot initialize model with low cpu memory usage because `accelerate` was not found in the environment. Defaulting to `low_cpu_mem_usage=False`. It is strongly recommended to install `accelerate` for faster and less memory-intense model loading. You can do so with: \n",
      "```\n",
      "pip install accelerate\n",
      "```\n",
      ".\n"
     ]
    }
   ],
   "source": [
    "from PIL import Image\n",
    "from torchvision.transforms import PILToTensor\n",
    "from dift.src.models.dift_sd import SDFeaturizer\n",
    "\n",
    "dift = SDFeaturizer(sd_id='stabilityai/stable-diffusion-2-1')\n",
    "prompt = \"find the corresponding point\"\n",
    "# img_size = 384\n",
    "# img = img.resize((img_size, img_size))\n",
    "img_tensor = (PILToTensor()(img) / 255.0 - 0.5) * 2\n",
    "ft = dift.forward(img_tensor,prompt=prompt,ensemble_size=8)"
   ]
  },
  {
   "cell_type": "code",
   "execution_count": 10,
   "id": "7fe059a7-dec9-42c8-a2c8-6d217fb8bbd3",
   "metadata": {},
   "outputs": [],
   "source": [
    "# src_ft = ft.unsqueeze(0)\n",
    "# x = [14,42,71]\n",
    "# y=[42,42,42]\n",
    "src_ft = nn.Upsample(size=(img_size, img_size), mode='bilinear')(ft)\n",
    "src_vec = src_ft[0, :,  demo.points_y, demo.points_x].view(len(demo.points_x), -1)  # 1, Cc/c\n",
    "# src_vec = src_ft[0, :,  y, x].view(len(x), -1)  # 1, Cc/c\n",
    "del src_ft,ft,dift,img_tensor\n",
    "gc.collect()\n",
    "torch.cuda.empty_cache()\n",
    "\n"
   ]
  },
  {
   "cell_type": "code",
   "execution_count": 11,
   "id": "7c480b73-ac87-41c7-8cc4-c4186442644b",
   "metadata": {},
   "outputs": [],
   "source": [
    "import os\n",
    "import torch\n",
    "from torch.utils.data import Dataset\n",
    "\n",
    "class DiftDataset(Dataset):\n",
    "    def __init__(self, data_file):\n",
    "        self.ft = torch.load(data_file)\n",
    "\n",
    "        \n",
    "    def __len__(self):\n",
    "        return len(self.ft)\n",
    "\n",
    "    def __getitem__(self, idx):\n",
    "        return self.ft[idx]"
   ]
  },
  {
   "cell_type": "code",
   "execution_count": 12,
   "id": "d0efd749-613d-4954-8408-d80297cbbf3c",
   "metadata": {},
   "outputs": [
    {
     "name": "stderr",
     "output_type": "stream",
     "text": [
      "/tmp/ipykernel_8996/1274620819.py:7: FutureWarning: You are using `torch.load` with `weights_only=False` (the current default value), which uses the default pickle module implicitly. It is possible to construct malicious pickle data which will execute arbitrary code during unpickling (See https://github.com/pytorch/pytorch/blob/main/SECURITY.md#untrusted-models for more details). In a future release, the default value for `weights_only` will be flipped to `True`. This limits the functions that could be executed during unpickling. Arbitrary objects will no longer be allowed to be loaded via this mode unless they are explicitly allowlisted by the user via `torch.serialization.add_safe_globals`. We recommend you start setting `weights_only=True` for any use case where you don't have full control of the loaded file. Please open an issue on GitHub for any issues related to this experimental feature.\n",
      "  self.ft = torch.load(data_file)\n"
     ]
    }
   ],
   "source": [
    "train_data_fea_0 = DiftDataset(\"train_dift_IPanda50_0.pt\")\n",
    "test_database_fea_0 = DiftDataset(\"test_database_dift_IPanda50_0.pt\")\n",
    "test_query_fea_0 = DiftDataset(\"test_query_dift_IPanda50_0.pt\")\n",
    "\n",
    "train_data_fea_261 = DiftDataset(\"train_dift_IPanda50_261.pt\")\n",
    "test_database_fea_261 = DiftDataset(\"test_database_dift_IPanda50_261.pt\")\n",
    "test_query_fea_261 = DiftDataset(\"test_query_dift_IPanda50_261.pt\")"
   ]
  },
  {
   "cell_type": "code",
   "execution_count": 13,
   "id": "e0b64d24-6e0f-470c-96e0-e8b9d419da70",
   "metadata": {},
   "outputs": [
    {
     "name": "stderr",
     "output_type": "stream",
     "text": [
      "100%|██████████████████████████████████████| 1286/1286 [00:12<00:00, 101.80it/s]\n"
     ]
    },
    {
     "name": "stdout",
     "output_type": "stream",
     "text": [
      "torch.Size([1286, 6])\n"
     ]
    },
    {
     "name": "stderr",
     "output_type": "stream",
     "text": [
      "100%|████████████████████████████████████████| 322/322 [00:03<00:00, 103.91it/s]\n"
     ]
    },
    {
     "name": "stdout",
     "output_type": "stream",
     "text": [
      "torch.Size([322, 6])\n"
     ]
    },
    {
     "name": "stderr",
     "output_type": "stream",
     "text": [
      "100%|██████████████████████████████████████| 5266/5266 [00:51<00:00, 101.45it/s]"
     ]
    },
    {
     "name": "stdout",
     "output_type": "stream",
     "text": [
      "torch.Size([5266, 6])\n"
     ]
    },
    {
     "name": "stderr",
     "output_type": "stream",
     "text": [
      "\n"
     ]
    }
   ],
   "source": [
    "from tqdm import tqdm\n",
    "\n",
    "#================================================database=================================================================\n",
    "\n",
    "keypoint_xy = []\n",
    "for i in tqdm(range(len(test_database_fea_261))):\n",
    "    fea_261 = test_database_fea_261[i]\n",
    "    fea_0 = test_database_fea_0[i]\n",
    "    # print(fea.shape)\n",
    "    # print(label)\n",
    "    fea_261 = fea_261.to('cuda')\n",
    "    trg_ft_whole = fea_0.view(1, -1, 1280)\n",
    "    trg_ft_261 = nn.Upsample(size=(img_size, img_size), mode='bilinear')(fea_261.unsqueeze(0)) # 1, C, H, W\n",
    "    trg_ft_0 = nn.Upsample(size=(img_size, img_size), mode='bilinear')(fea_0.unsqueeze(0)) # 1, C, H, W\n",
    "    \n",
    "    trg_vec = trg_ft_261.view(1, 1280, -1) # 1, C, HW\n",
    "    src_vec = F.normalize(src_vec) # N, C\n",
    "    trg_vec = F.normalize(trg_vec) # 1, C, HW\n",
    "    tmp_xy =[]\n",
    "    for j in range(src_vec.shape[0]):\n",
    "        cos_map = torch.matmul(src_vec[j].unsqueeze(0), trg_vec).view(1, img_size, img_size).cpu().numpy() # 1, H, W\n",
    "        max_yx = np.unravel_index(cos_map.argmax(), cos_map.shape)\n",
    "        tmp_xy.append(torch.tensor([max_yx[1].item()/img_size,max_yx[2].item()/img_size]))\n",
    "        # print(max_yx)\n",
    "    # each_keypoint_xy = torch.cat(tmp_xy)\n",
    "    each_keypoint_xy = torch.cat(tmp_xy, dim=0)\n",
    "    # each_keypoint_xy = torch.cat(tmp_x)\n",
    "    keypoint_xy.append(each_keypoint_xy.unsqueeze(0))\n",
    "\n",
    "keypoint_xy = torch.cat(keypoint_xy, dim=0)\n",
    "print(keypoint_xy.shape)\n",
    "keypoint_ft = torch.save(keypoint_xy.cpu(), \"test_database_xy_IPanda50_3keypoint.pt\") # save feature in the shape of [N,Nk,C]\n",
    "\n",
    "\n",
    "\n",
    "\n",
    "#================================================query=================================================================\n",
    "\n",
    "keypoint_xy = []\n",
    "for i in tqdm(range(len(test_query_fea_261))):\n",
    "    fea_261 = test_query_fea_261[i]\n",
    "    fea_0 = test_query_fea_0[i]\n",
    "    # print(fea.shape)\n",
    "    # print(label)\n",
    "    fea_261 = fea_261.to('cuda')\n",
    "    trg_ft_whole = fea_0.view(1, -1, 1280)\n",
    "    trg_ft_261 = nn.Upsample(size=(img_size, img_size), mode='bilinear')(fea_261.unsqueeze(0)) # 1, C, H, W\n",
    "    trg_ft_0 = nn.Upsample(size=(img_size, img_size), mode='bilinear')(fea_0.unsqueeze(0)) # 1, C, H, W\n",
    "    \n",
    "    trg_vec = trg_ft_261.view(1, 1280, -1) # 1, C, HW\n",
    "    src_vec = F.normalize(src_vec) # N, C\n",
    "    trg_vec = F.normalize(trg_vec) # 1, C, HW\n",
    "    tmp_xy =[]\n",
    "    for j in range(src_vec.shape[0]):\n",
    "        cos_map = torch.matmul(src_vec[j].unsqueeze(0), trg_vec).view(1, img_size, img_size).cpu().numpy() # 1, H, W\n",
    "        max_yx = np.unravel_index(cos_map.argmax(), cos_map.shape)\n",
    "        tmp_xy.append(torch.tensor([max_yx[1].item()/img_size,max_yx[2].item()/img_size]))\n",
    "    # each_keypoint_xy = torch.cat(tmp_xy)\n",
    "    each_keypoint_xy = torch.cat(tmp_xy, dim=0)\n",
    "    # each_keypoint_xy = torch.cat(tmp_x)\n",
    "    keypoint_xy.append(each_keypoint_xy.unsqueeze(0))\n",
    "\n",
    "keypoint_xy = torch.cat(keypoint_xy, dim=0)\n",
    "print(keypoint_xy.shape)\n",
    "keypoint_ft = torch.save(keypoint_xy.cpu(), \"test_query_xy_IPanda50_3keypoint.pt\") # save feature in the shape of [N,Nk,C]\n",
    "\n",
    "\n",
    "#================================================train=================================================================\n",
    "\n",
    "keypoint_xy = []\n",
    "for i in tqdm(range(len(train_data_fea_261))):\n",
    "    fea_261 = train_data_fea_261[i]\n",
    "    fea_0 = train_data_fea_0[i]\n",
    "    # print(fea.shape)\n",
    "    # print(label)\n",
    "    fea_261 = fea_261.to('cuda')\n",
    "    trg_ft_whole = fea_0.view(1, -1, 1280)\n",
    "    trg_ft_261 = nn.Upsample(size=(img_size, img_size), mode='bilinear')(fea_261.unsqueeze(0)) # 1, C, H, W\n",
    "    trg_ft_0 = nn.Upsample(size=(img_size, img_size), mode='bilinear')(fea_0.unsqueeze(0)) # 1, C, H, W\n",
    "    \n",
    "    trg_vec = trg_ft_261.view(1, 1280, -1) # 1, C, HW\n",
    "    src_vec = F.normalize(src_vec) # N, C\n",
    "    trg_vec = F.normalize(trg_vec) # 1, C, HW\n",
    "    tmp_xy =[]\n",
    "    for j in range(src_vec.shape[0]):\n",
    "        cos_map = torch.matmul(src_vec[j].unsqueeze(0), trg_vec).view(1, img_size, img_size).cpu().numpy() # 1, H, W\n",
    "        max_yx = np.unravel_index(cos_map.argmax(), cos_map.shape)\n",
    "        tmp_xy.append(torch.tensor([max_yx[1].item()/img_size,max_yx[2].item()/img_size]))\n",
    "      \n",
    "        # tmp_xy.append(torch.tensor([max_yx[1].item(),max_yx[2].item()]))\n",
    "    # each_keypoint_xy = torch.cat(tmp_xy)\n",
    "    each_keypoint_xy = torch.cat(tmp_xy, dim=0)\n",
    "    # each_keypoint_xy = torch.cat(tmp_x)\n",
    "    keypoint_xy.append(each_keypoint_xy.unsqueeze(0))\n",
    "\n",
    "keypoint_xy = torch.cat(keypoint_xy, dim=0)\n",
    "print(keypoint_xy.shape)\n",
    "keypoint_ft = torch.save(keypoint_xy.cpu(), \"train_data_xy_IPanda50_3keypoint.pt\") # save feature in the shape of [N,Nk,C]\n"
   ]
  },
  {
   "cell_type": "code",
   "execution_count": 14,
   "id": "0ef182e5-1ff9-4838-9871-17ab7475af46",
   "metadata": {},
   "outputs": [
    {
     "data": {
      "text/plain": [
       "tensor([[0.6200, 0.4700, 0.6000, 0.3100, 0.3400, 0.0600],\n",
       "        [0.8100, 0.6700, 0.5600, 0.3200, 0.1900, 0.3900],\n",
       "        [0.6700, 0.3800, 0.1100, 0.6000, 0.2000, 0.4700],\n",
       "        ...,\n",
       "        [0.7500, 0.4700, 0.8200, 0.3200, 0.2300, 0.4700],\n",
       "        [0.6800, 0.1800, 0.6700, 0.3200, 0.1300, 0.4000],\n",
       "        [0.6000, 0.6700, 0.1700, 0.3100, 0.3200, 0.0800]])"
      ]
     },
     "execution_count": 14,
     "metadata": {},
     "output_type": "execute_result"
    }
   ],
   "source": [
    "keypoint_xy"
   ]
  },
  {
   "cell_type": "code",
   "execution_count": null,
   "id": "8cbd931e-c653-4628-a0b1-5c9c0216cfb7",
   "metadata": {},
   "outputs": [],
   "source": []
  }
 ],
 "metadata": {
  "kernelspec": {
   "display_name": "Python 3 (ipykernel)",
   "language": "python",
   "name": "python3"
  },
  "language_info": {
   "codemirror_mode": {
    "name": "ipython",
    "version": 3
   },
   "file_extension": ".py",
   "mimetype": "text/x-python",
   "name": "python",
   "nbconvert_exporter": "python",
   "pygments_lexer": "ipython3",
   "version": "3.10.0"
  }
 },
 "nbformat": 4,
 "nbformat_minor": 5
}
